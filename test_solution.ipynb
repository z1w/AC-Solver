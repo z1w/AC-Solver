{
 "cells": [
  {
   "cell_type": "code",
   "execution_count": 1,
   "metadata": {},
   "outputs": [],
   "source": [
    "from utils import read_all_lines, read_list_file\n",
    "from ac_solver.envs.ac_moves import ACMove\n",
    "from ac_solver.envs.utils import is_array_valid_presentation, is_presentation_trivial\n",
    "import numpy as np\n",
    "data_file = \"ac_solver/search/miller_schupp/data/all_presentations.txt\"\n",
    "sol_file = \"solutions.txt\""
   ]
  },
  {
   "cell_type": "code",
   "execution_count": 2,
   "metadata": {},
   "outputs": [],
   "source": [
    "relator_len = 64\n",
    "#Read list file will read all instances and normalize it to the form [rel1, rel2] such that len(rel1/rel2) = 64\n",
    "lines, _ = read_list_file(data_file, relatorLen=relator_len)\n",
    "sols = read_all_lines(sol_file)"
   ]
  },
  {
   "cell_type": "code",
   "execution_count": 3,
   "metadata": {},
   "outputs": [],
   "source": [
    "def validate(presentation, solution):\n",
    "    for action in solution[1:]:\n",
    "        word_lengths = [1,1]\n",
    "        presentation, word_lengths = ACMove(\n",
    "            move_id=action,\n",
    "            presentation=presentation,\n",
    "            max_relator_length=relator_len,\n",
    "            lengths=word_lengths,\n",
    "            cyclical=False,\n",
    "        )\n",
    "    return is_presentation_trivial(presentation)"
   ]
  },
  {
   "cell_type": "code",
   "execution_count": 5,
   "metadata": {},
   "outputs": [
    {
     "name": "stdout",
     "output_type": "stream",
     "text": [
      "Correct Count 589\n"
     ]
    }
   ],
   "source": [
    "correct_count = 0\n",
    "for i in range(len(lines)):\n",
    "    line, sol = lines[i], sols[i]\n",
    "    presentation = np.array(line)\n",
    "    if validate(presentation=presentation, solution=sol):\n",
    "        correct_count += 1\n",
    "print(\"Correct Count\", correct_count)"
   ]
  }
 ],
 "metadata": {
  "kernelspec": {
   "display_name": "ac",
   "language": "python",
   "name": "python3"
  },
  "language_info": {
   "codemirror_mode": {
    "name": "ipython",
    "version": 3
   },
   "file_extension": ".py",
   "mimetype": "text/x-python",
   "name": "python",
   "nbconvert_exporter": "python",
   "pygments_lexer": "ipython3",
   "version": "3.10.18"
  },
  "orig_nbformat": 4
 },
 "nbformat": 4,
 "nbformat_minor": 2
}
